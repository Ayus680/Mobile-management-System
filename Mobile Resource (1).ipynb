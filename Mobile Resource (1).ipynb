{
 "cells": [
  {
   "cell_type": "code",
   "execution_count": 2,
   "id": "ee34036d",
   "metadata": {},
   "outputs": [],
   "source": [
    "import numpy as np\n",
    "import pandas as pd\n",
    "import matplotlib.pyplot as plt"
   ]
  },
  {
   "cell_type": "code",
   "execution_count": 3,
   "id": "ee4ab7e6",
   "metadata": {},
   "outputs": [],
   "source": [
    "df = pd.ExcelFile('Internship.xlsx').parse('Sheet1')"
   ]
  },
  {
   "cell_type": "code",
   "execution_count": 4,
   "id": "ab8e8698",
   "metadata": {},
   "outputs": [
    {
     "data": {
      "text/html": [
       "<div>\n",
       "<style scoped>\n",
       "    .dataframe tbody tr th:only-of-type {\n",
       "        vertical-align: middle;\n",
       "    }\n",
       "\n",
       "    .dataframe tbody tr th {\n",
       "        vertical-align: top;\n",
       "    }\n",
       "\n",
       "    .dataframe thead th {\n",
       "        text-align: right;\n",
       "    }\n",
       "</style>\n",
       "<table border=\"1\" class=\"dataframe\">\n",
       "  <thead>\n",
       "    <tr style=\"text-align: right;\">\n",
       "      <th></th>\n",
       "      <th>RESOURCE_CODE</th>\n",
       "      <th>RESOURCE_DESC</th>\n",
       "      <th>RESOURCE_GROUP</th>\n",
       "      <th>MAX HR OF BOOKING</th>\n",
       "      <th>PER HOUR RATE</th>\n",
       "      <th>RES_SPECIFICATION</th>\n",
       "      <th>Unnamed: 6</th>\n",
       "    </tr>\n",
       "  </thead>\n",
       "  <tbody>\n",
       "    <tr>\n",
       "      <th>0</th>\n",
       "      <td>10091</td>\n",
       "      <td>Crane 100T #1</td>\n",
       "      <td>KMWHLC</td>\n",
       "      <td>72.0</td>\n",
       "      <td>2000.0</td>\n",
       "      <td>Big Mobile Crane 100T #1</td>\n",
       "      <td>6.0</td>\n",
       "    </tr>\n",
       "    <tr>\n",
       "      <th>1</th>\n",
       "      <td>10090</td>\n",
       "      <td>Crane 160T #1</td>\n",
       "      <td>KMWHLC</td>\n",
       "      <td>72.0</td>\n",
       "      <td>2000.0</td>\n",
       "      <td>Big Mobile Crane 160T #1</td>\n",
       "      <td>NaN</td>\n",
       "    </tr>\n",
       "    <tr>\n",
       "      <th>2</th>\n",
       "      <td>10093</td>\n",
       "      <td>Crane 40T #1</td>\n",
       "      <td>KMWHLC</td>\n",
       "      <td>72.0</td>\n",
       "      <td>2000.0</td>\n",
       "      <td>Big Mobile Crane 40T #1</td>\n",
       "      <td>NaN</td>\n",
       "    </tr>\n",
       "    <tr>\n",
       "      <th>3</th>\n",
       "      <td>10092</td>\n",
       "      <td>Crane 80T #1</td>\n",
       "      <td>KMWHLC</td>\n",
       "      <td>72.0</td>\n",
       "      <td>2000.0</td>\n",
       "      <td>Big Mobile Crane 80T #1</td>\n",
       "      <td>NaN</td>\n",
       "    </tr>\n",
       "    <tr>\n",
       "      <th>4</th>\n",
       "      <td>10158</td>\n",
       "      <td>DEMAG- 200T</td>\n",
       "      <td>WHLC</td>\n",
       "      <td>48.0</td>\n",
       "      <td>500.0</td>\n",
       "      <td>CAPACITY - 200T - BOOM LENGTH (MTR) - 60</td>\n",
       "      <td>NaN</td>\n",
       "    </tr>\n",
       "  </tbody>\n",
       "</table>\n",
       "</div>"
      ],
      "text/plain": [
       "   RESOURCE_CODE  RESOURCE_DESC RESOURCE_GROUP  MAX HR OF BOOKING  \\\n",
       "0          10091  Crane 100T #1         KMWHLC               72.0   \n",
       "1          10090  Crane 160T #1         KMWHLC               72.0   \n",
       "2          10093   Crane 40T #1         KMWHLC               72.0   \n",
       "3          10092   Crane 80T #1         KMWHLC               72.0   \n",
       "4          10158    DEMAG- 200T           WHLC               48.0   \n",
       "\n",
       "   PER HOUR RATE                          RES_SPECIFICATION  Unnamed: 6  \n",
       "0          2000.0                  Big Mobile Crane 100T #1         6.0  \n",
       "1          2000.0                  Big Mobile Crane 160T #1         NaN  \n",
       "2          2000.0                   Big Mobile Crane 40T #1         NaN  \n",
       "3          2000.0                   Big Mobile Crane 80T #1         NaN  \n",
       "4           500.0  CAPACITY - 200T - BOOM LENGTH (MTR) - 60         NaN  "
      ]
     },
     "execution_count": 4,
     "metadata": {},
     "output_type": "execute_result"
    }
   ],
   "source": [
    "df.head()"
   ]
  },
  {
   "cell_type": "code",
   "execution_count": 5,
   "id": "e9fc13ff",
   "metadata": {},
   "outputs": [
    {
     "data": {
      "text/html": [
       "<div>\n",
       "<style scoped>\n",
       "    .dataframe tbody tr th:only-of-type {\n",
       "        vertical-align: middle;\n",
       "    }\n",
       "\n",
       "    .dataframe tbody tr th {\n",
       "        vertical-align: top;\n",
       "    }\n",
       "\n",
       "    .dataframe thead th {\n",
       "        text-align: right;\n",
       "    }\n",
       "</style>\n",
       "<table border=\"1\" class=\"dataframe\">\n",
       "  <thead>\n",
       "    <tr style=\"text-align: right;\">\n",
       "      <th></th>\n",
       "      <th>RESOURCE_CODE</th>\n",
       "      <th>MAX HR OF BOOKING</th>\n",
       "      <th>PER HOUR RATE</th>\n",
       "      <th>Unnamed: 6</th>\n",
       "    </tr>\n",
       "  </thead>\n",
       "  <tbody>\n",
       "    <tr>\n",
       "      <th>count</th>\n",
       "      <td>81.000000</td>\n",
       "      <td>78.000000</td>\n",
       "      <td>78.000000</td>\n",
       "      <td>1.0</td>\n",
       "    </tr>\n",
       "    <tr>\n",
       "      <th>mean</th>\n",
       "      <td>9985.975309</td>\n",
       "      <td>53.538462</td>\n",
       "      <td>846.153846</td>\n",
       "      <td>6.0</td>\n",
       "    </tr>\n",
       "    <tr>\n",
       "      <th>std</th>\n",
       "      <td>1115.409342</td>\n",
       "      <td>17.264702</td>\n",
       "      <td>363.136520</td>\n",
       "      <td>NaN</td>\n",
       "    </tr>\n",
       "    <tr>\n",
       "      <th>min</th>\n",
       "      <td>80.000000</td>\n",
       "      <td>24.000000</td>\n",
       "      <td>500.000000</td>\n",
       "      <td>6.0</td>\n",
       "    </tr>\n",
       "    <tr>\n",
       "      <th>25%</th>\n",
       "      <td>10076.000000</td>\n",
       "      <td>48.000000</td>\n",
       "      <td>500.000000</td>\n",
       "      <td>6.0</td>\n",
       "    </tr>\n",
       "    <tr>\n",
       "      <th>50%</th>\n",
       "      <td>10116.000000</td>\n",
       "      <td>48.000000</td>\n",
       "      <td>1000.000000</td>\n",
       "      <td>6.0</td>\n",
       "    </tr>\n",
       "    <tr>\n",
       "      <th>75%</th>\n",
       "      <td>10155.000000</td>\n",
       "      <td>72.000000</td>\n",
       "      <td>1000.000000</td>\n",
       "      <td>6.0</td>\n",
       "    </tr>\n",
       "    <tr>\n",
       "      <th>max</th>\n",
       "      <td>10184.000000</td>\n",
       "      <td>72.000000</td>\n",
       "      <td>2000.000000</td>\n",
       "      <td>6.0</td>\n",
       "    </tr>\n",
       "  </tbody>\n",
       "</table>\n",
       "</div>"
      ],
      "text/plain": [
       "       RESOURCE_CODE  MAX HR OF BOOKING  PER HOUR RATE   Unnamed: 6\n",
       "count      81.000000          78.000000       78.000000         1.0\n",
       "mean     9985.975309          53.538462      846.153846         6.0\n",
       "std      1115.409342          17.264702      363.136520         NaN\n",
       "min        80.000000          24.000000      500.000000         6.0\n",
       "25%     10076.000000          48.000000      500.000000         6.0\n",
       "50%     10116.000000          48.000000     1000.000000         6.0\n",
       "75%     10155.000000          72.000000     1000.000000         6.0\n",
       "max     10184.000000          72.000000     2000.000000         6.0"
      ]
     },
     "execution_count": 5,
     "metadata": {},
     "output_type": "execute_result"
    }
   ],
   "source": [
    "df.describe()"
   ]
  },
  {
   "cell_type": "code",
   "execution_count": 6,
   "id": "1eac0859",
   "metadata": {},
   "outputs": [
    {
     "data": {
      "text/plain": [
       "(81, 7)"
      ]
     },
     "execution_count": 6,
     "metadata": {},
     "output_type": "execute_result"
    }
   ],
   "source": [
    "df.shape"
   ]
  },
  {
   "cell_type": "markdown",
   "id": "efa862d8",
   "metadata": {},
   "source": [
    "# No. of Resources available "
   ]
  },
  {
   "cell_type": "code",
   "execution_count": 7,
   "id": "1d62a9b9",
   "metadata": {},
   "outputs": [
    {
     "data": {
      "text/plain": [
       "80"
      ]
     },
     "execution_count": 7,
     "metadata": {},
     "output_type": "execute_result"
    }
   ],
   "source": [
    "len(df[1:])  # First row is title so we exclude it "
   ]
  },
  {
   "cell_type": "markdown",
   "id": "562c3d11",
   "metadata": {},
   "source": [
    "# No. of Unique Resources available"
   ]
  },
  {
   "cell_type": "code",
   "execution_count": 8,
   "id": "fc085bc2",
   "metadata": {},
   "outputs": [
    {
     "data": {
      "text/plain": [
       "RESOURCE_CODE        81\n",
       "RESOURCE_DESC        80\n",
       "RESOURCE_GROUP       80\n",
       "MAX HR OF BOOKING    78\n",
       "PER HOUR RATE        78\n",
       "RES_SPECIFICATION    80\n",
       "Unnamed: 6            1\n",
       "dtype: int64"
      ]
     },
     "execution_count": 8,
     "metadata": {},
     "output_type": "execute_result"
    }
   ],
   "source": [
    "df.count()"
   ]
  },
  {
   "cell_type": "code",
   "execution_count": 9,
   "id": "8eddba4f",
   "metadata": {},
   "outputs": [
    {
     "data": {
      "text/plain": [
       "11"
      ]
     },
     "execution_count": 9,
     "metadata": {},
     "output_type": "execute_result"
    }
   ],
   "source": [
    "df['RESOURCE_GROUP'].nunique()"
   ]
  },
  {
   "cell_type": "code",
   "execution_count": 10,
   "id": "2a81587d",
   "metadata": {},
   "outputs": [],
   "source": [
    "item_counts=df['RESOURCE_GROUP'].value_counts()"
   ]
  },
  {
   "cell_type": "code",
   "execution_count": 11,
   "id": "71040e55",
   "metadata": {},
   "outputs": [
    {
     "data": {
      "text/plain": [
       "KMWHLC    16\n",
       "DSLG      12\n",
       "COMP      11\n",
       "WHLC      10\n",
       "KMPAC     10\n",
       "KMDSLG     8\n",
       "FLTT       5\n",
       "KMCOMP     4\n",
       "PDGS       2\n",
       "DMP        1\n",
       "PAC        1\n",
       "Name: RESOURCE_GROUP, dtype: int64"
      ]
     },
     "execution_count": 11,
     "metadata": {},
     "output_type": "execute_result"
    }
   ],
   "source": [
    "item_counts"
   ]
  },
  {
   "cell_type": "code",
   "execution_count": 12,
   "id": "d3fbc7a6",
   "metadata": {},
   "outputs": [],
   "source": [
    "data=df.loc[(df['RESOURCE_GROUP'] == 'COMP') | (df['RESOURCE_GROUP'] == 'KMCOMP') | (df['RESOURCE_GROUP']=='WHLC')]"
   ]
  },
  {
   "cell_type": "code",
   "execution_count": 13,
   "id": "dc607dad",
   "metadata": {},
   "outputs": [
    {
     "data": {
      "text/html": [
       "<div>\n",
       "<style scoped>\n",
       "    .dataframe tbody tr th:only-of-type {\n",
       "        vertical-align: middle;\n",
       "    }\n",
       "\n",
       "    .dataframe tbody tr th {\n",
       "        vertical-align: top;\n",
       "    }\n",
       "\n",
       "    .dataframe thead th {\n",
       "        text-align: right;\n",
       "    }\n",
       "</style>\n",
       "<table border=\"1\" class=\"dataframe\">\n",
       "  <thead>\n",
       "    <tr style=\"text-align: right;\">\n",
       "      <th></th>\n",
       "      <th>RESOURCE_CODE</th>\n",
       "      <th>RESOURCE_DESC</th>\n",
       "      <th>RESOURCE_GROUP</th>\n",
       "      <th>MAX HR OF BOOKING</th>\n",
       "      <th>PER HOUR RATE</th>\n",
       "      <th>RES_SPECIFICATION</th>\n",
       "      <th>Unnamed: 6</th>\n",
       "    </tr>\n",
       "  </thead>\n",
       "  <tbody>\n",
       "    <tr>\n",
       "      <th>4</th>\n",
       "      <td>10158</td>\n",
       "      <td>DEMAG- 200T</td>\n",
       "      <td>WHLC</td>\n",
       "      <td>48.0</td>\n",
       "      <td>500.0</td>\n",
       "      <td>CAPACITY - 200T - BOOM LENGTH (MTR) - 60</td>\n",
       "      <td>NaN</td>\n",
       "    </tr>\n",
       "    <tr>\n",
       "      <th>5</th>\n",
       "      <td>10159</td>\n",
       "      <td>DEMAG- 300T</td>\n",
       "      <td>WHLC</td>\n",
       "      <td>48.0</td>\n",
       "      <td>500.0</td>\n",
       "      <td>CAPACITY - 300T - BOOM LENGTH (MTR) - 54</td>\n",
       "      <td>NaN</td>\n",
       "    </tr>\n",
       "    <tr>\n",
       "      <th>6</th>\n",
       "      <td>10155</td>\n",
       "      <td>DEMAG- 80T</td>\n",
       "      <td>WHLC</td>\n",
       "      <td>48.0</td>\n",
       "      <td>500.0</td>\n",
       "      <td>CAPACITY - 80T - BOOM LENGTH (MTR) - 50</td>\n",
       "      <td>NaN</td>\n",
       "    </tr>\n",
       "    <tr>\n",
       "      <th>7</th>\n",
       "      <td>10156</td>\n",
       "      <td>DEMAG-100T</td>\n",
       "      <td>WHLC</td>\n",
       "      <td>48.0</td>\n",
       "      <td>500.0</td>\n",
       "      <td>CAPACITY - 100T - BOOM LENGTH (MTR) - 42</td>\n",
       "      <td>NaN</td>\n",
       "    </tr>\n",
       "    <tr>\n",
       "      <th>8</th>\n",
       "      <td>10184</td>\n",
       "      <td>DEMAG-100T2</td>\n",
       "      <td>WHLC</td>\n",
       "      <td>48.0</td>\n",
       "      <td>500.0</td>\n",
       "      <td>CAPACITY - 100T - BOOM LENGTH (MTR) - 42</td>\n",
       "      <td>NaN</td>\n",
       "    </tr>\n",
       "  </tbody>\n",
       "</table>\n",
       "</div>"
      ],
      "text/plain": [
       "   RESOURCE_CODE RESOURCE_DESC RESOURCE_GROUP  MAX HR OF BOOKING  \\\n",
       "4          10158   DEMAG- 200T           WHLC               48.0   \n",
       "5          10159   DEMAG- 300T           WHLC               48.0   \n",
       "6          10155    DEMAG- 80T           WHLC               48.0   \n",
       "7          10156    DEMAG-100T           WHLC               48.0   \n",
       "8          10184   DEMAG-100T2           WHLC               48.0   \n",
       "\n",
       "   PER HOUR RATE                          RES_SPECIFICATION  Unnamed: 6  \n",
       "4           500.0  CAPACITY - 200T - BOOM LENGTH (MTR) - 60         NaN  \n",
       "5           500.0  CAPACITY - 300T - BOOM LENGTH (MTR) - 54         NaN  \n",
       "6           500.0   CAPACITY - 80T - BOOM LENGTH (MTR) - 50         NaN  \n",
       "7           500.0  CAPACITY - 100T - BOOM LENGTH (MTR) - 42         NaN  \n",
       "8           500.0  CAPACITY - 100T - BOOM LENGTH (MTR) - 42         NaN  "
      ]
     },
     "execution_count": 13,
     "metadata": {},
     "output_type": "execute_result"
    }
   ],
   "source": [
    "data.head()"
   ]
  },
  {
   "cell_type": "code",
   "execution_count": 14,
   "id": "8a9e9de4",
   "metadata": {},
   "outputs": [],
   "source": [
    "data.to_excel('Compressor_Type.xlsx')"
   ]
  },
  {
   "cell_type": "code",
   "execution_count": null,
   "id": "7c812cfc",
   "metadata": {},
   "outputs": [],
   "source": []
  },
  {
   "cell_type": "code",
   "execution_count": null,
   "id": "27f95d14",
   "metadata": {},
   "outputs": [],
   "source": []
  },
  {
   "cell_type": "code",
   "execution_count": 16,
   "id": "34898f4b",
   "metadata": {},
   "outputs": [],
   "source": [
    "data1=df.loc[(df['RESOURCE_GROUP'] == 'KMDSLG')]"
   ]
  },
  {
   "cell_type": "code",
   "execution_count": 17,
   "id": "cac7261c",
   "metadata": {},
   "outputs": [],
   "source": [
    "data1.to_excel('welding_set.xlsx')"
   ]
  },
  {
   "cell_type": "code",
   "execution_count": 18,
   "id": "ea29c674",
   "metadata": {},
   "outputs": [],
   "source": [
    "data2=df.loc[(df['RESOURCE_GROUP'] != 'COMP') & (df['RESOURCE_GROUP'] != 'KMCOMP') & (df['RESOURCE_GROUP']!='WHLC') & (df['RESOURCE_GROUP'] != 'KMDSLG')]"
   ]
  },
  {
   "cell_type": "code",
   "execution_count": 19,
   "id": "66bfba60",
   "metadata": {},
   "outputs": [],
   "source": [
    "data2.to_excel('other_resource.xlsx')"
   ]
  },
  {
   "cell_type": "code",
   "execution_count": 39,
   "id": "a4cca7c4",
   "metadata": {},
   "outputs": [],
   "source": [
    "df_new=df.iloc[:, [0,1,4]]"
   ]
  },
  {
   "cell_type": "code",
   "execution_count": 40,
   "id": "5322daa7",
   "metadata": {},
   "outputs": [
    {
     "data": {
      "text/html": [
       "<div>\n",
       "<style scoped>\n",
       "    .dataframe tbody tr th:only-of-type {\n",
       "        vertical-align: middle;\n",
       "    }\n",
       "\n",
       "    .dataframe tbody tr th {\n",
       "        vertical-align: top;\n",
       "    }\n",
       "\n",
       "    .dataframe thead th {\n",
       "        text-align: right;\n",
       "    }\n",
       "</style>\n",
       "<table border=\"1\" class=\"dataframe\">\n",
       "  <thead>\n",
       "    <tr style=\"text-align: right;\">\n",
       "      <th></th>\n",
       "      <th>RESOURCE_CODE</th>\n",
       "      <th>RESOURCE_DESC</th>\n",
       "      <th>PER HOUR RATE</th>\n",
       "    </tr>\n",
       "  </thead>\n",
       "  <tbody>\n",
       "    <tr>\n",
       "      <th>0</th>\n",
       "      <td>10091</td>\n",
       "      <td>Crane 100T #1</td>\n",
       "      <td>2000.0</td>\n",
       "    </tr>\n",
       "    <tr>\n",
       "      <th>1</th>\n",
       "      <td>10090</td>\n",
       "      <td>Crane 160T #1</td>\n",
       "      <td>2000.0</td>\n",
       "    </tr>\n",
       "    <tr>\n",
       "      <th>2</th>\n",
       "      <td>10093</td>\n",
       "      <td>Crane 40T #1</td>\n",
       "      <td>2000.0</td>\n",
       "    </tr>\n",
       "    <tr>\n",
       "      <th>3</th>\n",
       "      <td>10092</td>\n",
       "      <td>Crane 80T #1</td>\n",
       "      <td>2000.0</td>\n",
       "    </tr>\n",
       "    <tr>\n",
       "      <th>4</th>\n",
       "      <td>10158</td>\n",
       "      <td>DEMAG- 200T</td>\n",
       "      <td>500.0</td>\n",
       "    </tr>\n",
       "  </tbody>\n",
       "</table>\n",
       "</div>"
      ],
      "text/plain": [
       "   RESOURCE_CODE  RESOURCE_DESC  PER HOUR RATE \n",
       "0          10091  Crane 100T #1          2000.0\n",
       "1          10090  Crane 160T #1          2000.0\n",
       "2          10093   Crane 40T #1          2000.0\n",
       "3          10092   Crane 80T #1          2000.0\n",
       "4          10158    DEMAG- 200T           500.0"
      ]
     },
     "execution_count": 40,
     "metadata": {},
     "output_type": "execute_result"
    }
   ],
   "source": [
    "df_new.head()"
   ]
  },
  {
   "cell_type": "code",
   "execution_count": 41,
   "id": "991493e4",
   "metadata": {},
   "outputs": [],
   "source": [
    "df_new.to_excel('Resource_desc.xlsx')"
   ]
  },
  {
   "cell_type": "code",
   "execution_count": 42,
   "id": "46959799",
   "metadata": {},
   "outputs": [],
   "source": [
    "data3=df.iloc[:,[1,3]]"
   ]
  },
  {
   "cell_type": "code",
   "execution_count": 43,
   "id": "a2f0fe67",
   "metadata": {},
   "outputs": [],
   "source": [
    "data3.to_excel('hour_of_booking.xlsx')"
   ]
  },
  {
   "cell_type": "code",
   "execution_count": null,
   "id": "e776a100",
   "metadata": {},
   "outputs": [],
   "source": []
  },
  {
   "cell_type": "code",
   "execution_count": null,
   "id": "69d1866a",
   "metadata": {},
   "outputs": [],
   "source": []
  },
  {
   "cell_type": "code",
   "execution_count": null,
   "id": "114b6065",
   "metadata": {},
   "outputs": [],
   "source": []
  }
 ],
 "metadata": {
  "kernelspec": {
   "display_name": "Python 3 (ipykernel)",
   "language": "python",
   "name": "python3"
  },
  "language_info": {
   "codemirror_mode": {
    "name": "ipython",
    "version": 3
   },
   "file_extension": ".py",
   "mimetype": "text/x-python",
   "name": "python",
   "nbconvert_exporter": "python",
   "pygments_lexer": "ipython3",
   "version": "3.9.7"
  }
 },
 "nbformat": 4,
 "nbformat_minor": 5
}
